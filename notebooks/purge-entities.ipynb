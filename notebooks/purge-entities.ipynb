{
 "cells": [
  {
   "cell_type": "markdown",
   "id": "91e49019-30a7-4b0f-8635-2d1bddbe0bee",
   "metadata": {},
   "source": [
    "# Purge Entities\n",
    "\n",
    "This script can be used to delete test entities in an epilot organization.\n",
    "\n",
    "Warning: Only run this notebook if you are ok with losing data! Should not be used in production organisations."
   ]
  },
  {
   "cell_type": "code",
   "execution_count": null,
   "id": "409ca7cc-ae3e-4702-86bf-e18d3fa7e283",
   "metadata": {},
   "outputs": [],
   "source": [
    "import entityClient from 'epilot-sdk/entity-client'\n",
    "import { authorizeWithToken } from 'epilot-sdk/auth'\n",
    "\n",
    "authorizeWithToken(entityClient, `<your token>`)\n",
    "\n",
    "entityClient.api.initialized"
   ]
  },
  {
   "cell_type": "code",
   "execution_count": null,
   "id": "311e3da6-b0b9-419d-a692-0e8143f2a494",
   "metadata": {},
   "outputs": [],
   "source": [
    "import PQueue from 'p-queue'\n",
    "\n",
    "// deletes a batch of 50 entities in parallel\n",
    "const deleteEntities = async (items: { _id: string, _schema: string }[]) => {\n",
    "  const jobs = new PQueue({ concurrency: 50 })\n",
    "  \n",
    "  for (const item of items) {\n",
    "    jobs.add(async () => {\n",
    "      try {\n",
    "        const deleteRes: any = await entityClient.deleteEntity({ slug: item._schema, id: item._id })\n",
    "        // console.info('Deleted entity', item._schema, deleteRes.data._title, item._id)\n",
    "      } catch (err) {\n",
    "        console.error('Could not delete entity', item)\n",
    "      }\n",
    "    })\n",
    "  }\n",
    "  \n",
    "  await jobs.onIdle();\n",
    "}"
   ]
  },
  {
   "cell_type": "code",
   "execution_count": null,
   "id": "c1fe64ee-6cdb-426c-880d-0efb7d32d7df",
   "metadata": {},
   "outputs": [],
   "source": [
    "const BATCH_SIZE = 250\n",
    "\n",
    "// define your search query here. these entities will be deleted.\n",
    "let searchRes = await entityClient.searchEntities(null, {\n",
    "  q: '_schema:contact _schema:contract _schema:meter',\n",
    "  fields: ['_schema', '_id', '_org'],\n",
    "  size: BATCH_SIZE,\n",
    "  from: 0,\n",
    "})\n",
    "\n",
    "searchRes.data.hits"
   ]
  },
  {
   "cell_type": "code",
   "execution_count": null,
   "id": "c7bb51a5-84c7-41aa-98c1-e85b644a1973",
   "metadata": {
    "scrolled": true,
    "tags": []
   },
   "outputs": [],
   "source": [
    "// delete entities in batches\n",
    "while (searchRes.data.hits > 0) {\n",
    "  console.log('Remaining: ', searchRes.data.hits)\n",
    "  \n",
    "  const [nextSearchRes] = await Promise.all([\n",
    "    // fetch next batch\n",
    "    entityClient.searchEntities(null, {\n",
    "      q: '_schema:contact _schema:contract _schema:meter',\n",
    "      fields: ['_schema', '_id', '_org'],\n",
    "      size: BATCH_SIZE,\n",
    "      from: BATCH_SIZE,\n",
    "    }),\n",
    "    // delete current batch\n",
    "    deleteEntities(searchRes.data.results)\n",
    "  ])\n",
    "  \n",
    "  searchRes = nextSearchRes\n",
    "} "
   ]
  }
 ],
 "metadata": {
  "kernelspec": {
   "display_name": "TypeScript",
   "language": "typescript",
   "name": "tslab"
  },
  "language_info": {
   "codemirror_mode": {
    "mode": "typescript",
    "name": "javascript",
    "typescript": true
   },
   "file_extension": ".ts",
   "mimetype": "text/typescript",
   "name": "typescript",
   "version": "3.7.2"
  }
 },
 "nbformat": 4,
 "nbformat_minor": 5
}
