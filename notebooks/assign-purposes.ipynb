{
 "cells": [
  {
   "attachments": {},
   "cell_type": "markdown",
   "id": "7861ddbb-e149-4afc-8b26-7dccf8213c61",
   "metadata": {},
   "source": [
    "# Example: Assign Purposes\n",
    "\n",
    "This script assigns a purpose to entities filtered by an entity search query."
   ]
  },
  {
   "cell_type": "code",
   "execution_count": 2,
   "id": "ee76e971",
   "metadata": {},
   "outputs": [],
   "source": [
    "// this is the purpose you want to assign to each entity\n",
    "const PURPOSE_TO_ASSIGN = 'c9e652e0-2ef8-4235-997b-08bae7fa296e'"
   ]
  },
  {
   "cell_type": "code",
   "execution_count": 1,
   "id": "145a46bb-b334-439f-bf12-c132ef700d6b",
   "metadata": {},
   "outputs": [
    {
     "name": "stdout",
     "output_type": "stream",
     "text": [
      "true\n"
     ]
    }
   ],
   "source": [
    "import entityClient from 'epilot-sdk/entity-client'\n",
    "import { authorizeWithToken } from 'epilot-sdk/auth'\n",
    "\n",
    "authorizeWithToken(entityClient, `<your token>`)\n",
    "\n",
    "entityClient.api.initialized"
   ]
  },
  {
   "cell_type": "code",
   "execution_count": 7,
   "id": "99624289-aeb4-4b05-be21-d543776b2029",
   "metadata": {},
   "outputs": [
    {
     "name": "stdout",
     "output_type": "stream",
     "text": [
      "224\n"
     ]
    }
   ],
   "source": [
    "const oppsToFixRes = await entityClient.searchEntities(null, {\n",
    "  q: `_schema:opportunity AND source.title:*My\\\\ Journey*`,\n",
    "  size: 1000,\n",
    "  fields: ['_schema', '_id', '_title', 'opportunity_number', '_purpose'],\n",
    "})\n",
    "\n",
    "oppsToFixRes.data.results.length"
   ]
  },
  {
   "cell_type": "code",
   "execution_count": null,
   "id": "2ef567f1",
   "metadata": {},
   "outputs": [],
   "source": [
    "const oppsToFix = oppsToFixRes.data.results;\n",
    "\n",
    "for (const oppToFix of oppsToFix) {\n",
    "  console.log('Assigning to', oppToFix._schema, oppToFix._title, oppToFix._id)\n",
    "  const updateRes = await entityClient.patchEntity({ slug: oppToFix._schema, id: oppToFix._id, async: true }, { _purpose: [PURPOSE_TO_ASSIGN] })\n",
    "  console.log('Updated', updateRes.status, updateRes.data._schema, updateRes.data._title, updateRes.data._id, updateRes.data._purpose)\n",
    "}\n",
    "\n",
    "console.log('Done!')"
   ]
  }
 ],
 "metadata": {
  "kernelspec": {
   "display_name": "TypeScript",
   "language": "typescript",
   "name": "tslab"
  },
  "language_info": {
   "codemirror_mode": {
    "mode": "typescript",
    "name": "javascript",
    "typescript": true
   },
   "file_extension": ".ts",
   "mimetype": "text/typescript",
   "name": "typescript",
   "version": "3.7.2"
  }
 },
 "nbformat": 4,
 "nbformat_minor": 5
}
